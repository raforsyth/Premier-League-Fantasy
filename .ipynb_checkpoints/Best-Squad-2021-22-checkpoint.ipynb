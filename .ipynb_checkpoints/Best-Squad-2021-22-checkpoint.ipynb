{
 "cells": [
  {
   "cell_type": "code",
   "execution_count": 1,
   "id": "6bd12499",
   "metadata": {},
   "outputs": [],
   "source": [
    "import pandas as pd\n",
    "import matplotlib.pyplot as plt\n",
    "from pathlib import Path"
   ]
  },
  {
   "cell_type": "code",
   "execution_count": 2,
   "id": "34b2f012",
   "metadata": {},
   "outputs": [
    {
     "data": {
      "text/plain": [
       "PosixPath('/home/robertfth/projects/Premier-League-Fantasy')"
      ]
     },
     "execution_count": 2,
     "metadata": {},
     "output_type": "execute_result"
    }
   ],
   "source": [
    "Path.cwd()"
   ]
  },
  {
   "cell_type": "code",
   "execution_count": 3,
   "id": "2fe97ea0",
   "metadata": {
    "scrolled": true
   },
   "outputs": [],
   "source": [
    "df = pd.read_csv('data/2021-22/players_raw.csv',encoding = 'utf-8')"
   ]
  },
  {
   "cell_type": "code",
   "execution_count": 4,
   "id": "1b09761a",
   "metadata": {
    "scrolled": true
   },
   "outputs": [
    {
     "data": {
      "text/html": [
       "<div>\n",
       "<style scoped>\n",
       "    .dataframe tbody tr th:only-of-type {\n",
       "        vertical-align: middle;\n",
       "    }\n",
       "\n",
       "    .dataframe tbody tr th {\n",
       "        vertical-align: top;\n",
       "    }\n",
       "\n",
       "    .dataframe thead th {\n",
       "        text-align: right;\n",
       "    }\n",
       "</style>\n",
       "<table border=\"1\" class=\"dataframe\">\n",
       "  <thead>\n",
       "    <tr style=\"text-align: right;\">\n",
       "      <th></th>\n",
       "      <th>now_cost</th>\n",
       "      <th>total_points</th>\n",
       "      <th>first_name</th>\n",
       "      <th>second_name</th>\n",
       "      <th>element_type</th>\n",
       "      <th>team</th>\n",
       "    </tr>\n",
       "  </thead>\n",
       "  <tbody>\n",
       "    <tr>\n",
       "      <th>0</th>\n",
       "      <td>45</td>\n",
       "      <td>10</td>\n",
       "      <td>Bernd</td>\n",
       "      <td>Leno</td>\n",
       "      <td>1</td>\n",
       "      <td>1</td>\n",
       "    </tr>\n",
       "    <tr>\n",
       "      <th>1</th>\n",
       "      <td>40</td>\n",
       "      <td>0</td>\n",
       "      <td>Rúnar Alex</td>\n",
       "      <td>Rúnarsson</td>\n",
       "      <td>1</td>\n",
       "      <td>1</td>\n",
       "    </tr>\n",
       "    <tr>\n",
       "      <th>2</th>\n",
       "      <td>63</td>\n",
       "      <td>0</td>\n",
       "      <td>Willian</td>\n",
       "      <td>Borges Da Silva</td>\n",
       "      <td>3</td>\n",
       "      <td>1</td>\n",
       "    </tr>\n",
       "    <tr>\n",
       "      <th>3</th>\n",
       "      <td>96</td>\n",
       "      <td>44</td>\n",
       "      <td>Pierre-Emerick</td>\n",
       "      <td>Aubameyang</td>\n",
       "      <td>4</td>\n",
       "      <td>1</td>\n",
       "    </tr>\n",
       "    <tr>\n",
       "      <th>4</th>\n",
       "      <td>42</td>\n",
       "      <td>48</td>\n",
       "      <td>Cédric</td>\n",
       "      <td>Soares</td>\n",
       "      <td>2</td>\n",
       "      <td>1</td>\n",
       "    </tr>\n",
       "    <tr>\n",
       "      <th>...</th>\n",
       "      <td>...</td>\n",
       "      <td>...</td>\n",
       "      <td>...</td>\n",
       "      <td>...</td>\n",
       "      <td>...</td>\n",
       "      <td>...</td>\n",
       "    </tr>\n",
       "    <tr>\n",
       "      <th>732</th>\n",
       "      <td>45</td>\n",
       "      <td>0</td>\n",
       "      <td>Bruno André</td>\n",
       "      <td>Cavaco Jordão</td>\n",
       "      <td>3</td>\n",
       "      <td>20</td>\n",
       "    </tr>\n",
       "    <tr>\n",
       "      <th>733</th>\n",
       "      <td>44</td>\n",
       "      <td>6</td>\n",
       "      <td>Toti António</td>\n",
       "      <td>Gomes</td>\n",
       "      <td>2</td>\n",
       "      <td>20</td>\n",
       "    </tr>\n",
       "    <tr>\n",
       "      <th>734</th>\n",
       "      <td>40</td>\n",
       "      <td>0</td>\n",
       "      <td>Dion</td>\n",
       "      <td>Sanderson</td>\n",
       "      <td>2</td>\n",
       "      <td>20</td>\n",
       "    </tr>\n",
       "    <tr>\n",
       "      <th>735</th>\n",
       "      <td>45</td>\n",
       "      <td>0</td>\n",
       "      <td>Ryan</td>\n",
       "      <td>Giles</td>\n",
       "      <td>3</td>\n",
       "      <td>20</td>\n",
       "    </tr>\n",
       "    <tr>\n",
       "      <th>736</th>\n",
       "      <td>55</td>\n",
       "      <td>20</td>\n",
       "      <td>Francisco Jorge</td>\n",
       "      <td>Tomás Oliveira</td>\n",
       "      <td>3</td>\n",
       "      <td>20</td>\n",
       "    </tr>\n",
       "  </tbody>\n",
       "</table>\n",
       "<p>737 rows × 6 columns</p>\n",
       "</div>"
      ],
      "text/plain": [
       "     now_cost  total_points       first_name      second_name  element_type  \\\n",
       "0          45            10            Bernd             Leno             1   \n",
       "1          40             0       Rúnar Alex        Rúnarsson             1   \n",
       "2          63             0          Willian  Borges Da Silva             3   \n",
       "3          96            44   Pierre-Emerick       Aubameyang             4   \n",
       "4          42            48           Cédric           Soares             2   \n",
       "..        ...           ...              ...              ...           ...   \n",
       "732        45             0      Bruno André    Cavaco Jordão             3   \n",
       "733        44             6     Toti António            Gomes             2   \n",
       "734        40             0             Dion        Sanderson             2   \n",
       "735        45             0             Ryan            Giles             3   \n",
       "736        55            20  Francisco Jorge   Tomás Oliveira             3   \n",
       "\n",
       "     team  \n",
       "0       1  \n",
       "1       1  \n",
       "2       1  \n",
       "3       1  \n",
       "4       1  \n",
       "..    ...  \n",
       "732    20  \n",
       "733    20  \n",
       "734    20  \n",
       "735    20  \n",
       "736    20  \n",
       "\n",
       "[737 rows x 6 columns]"
      ]
     },
     "execution_count": 4,
     "metadata": {},
     "output_type": "execute_result"
    }
   ],
   "source": [
    "df_trim = df[['now_cost','total_points','first_name','second_name','element_type','team']]\n",
    "df_trim"
   ]
  },
  {
   "cell_type": "code",
   "execution_count": 5,
   "id": "8f92e538",
   "metadata": {},
   "outputs": [],
   "source": [
    "GK = {}\n",
    "DEF = {}\n",
    "MID = {}\n",
    "FWD = {}\n",
    "for i in range(len(df_trim)):\n",
    "    if df_trim[\"element_type\"][i]==1:\n",
    "        GK[df_trim[\"second_name\"][i]] = {\"points\":df_trim[\"total_points\"][i], 'cost':df_trim[\"now_cost\"][i],\"type\":\"GK\",\"team\":df_trim[\"team\"][i]}\n",
    "    if df_trim[\"element_type\"][i]==2:\n",
    "        DEF[df_trim[\"second_name\"][i]] = {\"points\":df_trim[\"total_points\"][i], 'cost':df_trim[\"now_cost\"][i],\"type\":\"DEF\",\"team\":df_trim[\"team\"][i]}\n",
    "    if df_trim[\"element_type\"][i]==3:\n",
    "        MID[df_trim[\"second_name\"][i]] = {\"points\":df_trim[\"total_points\"][i], 'cost':df_trim[\"now_cost\"][i],\"type\":\"MID\",\"team\":df_trim[\"team\"][i]}\n",
    "    if df_trim[\"element_type\"][i]==4:\n",
    "        FWD[df_trim[\"second_name\"][i]] = {\"points\":df_trim[\"total_points\"][i], 'cost':df_trim[\"now_cost\"][i],\"type\":\"FWD\",\"team\":df_trim[\"team\"][i]}"
   ]
  },
  {
   "cell_type": "code",
   "execution_count": 6,
   "id": "2af5f61f",
   "metadata": {},
   "outputs": [],
   "source": [
    "def generateSquad():\n",
    "    squad = {}\n",
    "    for i in range(2):\n",
    "        squad[max(GK,key = lambda x : GK.get(x)['points'])] = GK[max(GK,key = lambda x : GK.get(x)['points'])]\n",
    "        del GK[max(GK,key = lambda x : GK.get(x)['points'])]\n",
    "    for i in range(5):\n",
    "        squad[max(DEF,key = lambda x : DEF.get(x)['points'])] = DEF[max(DEF,key = lambda x : DEF.get(x)['points'])]\n",
    "        del DEF[max(DEF,key = lambda x : DEF.get(x)['points'])]\n",
    "    for i in range(5):\n",
    "        squad[max(MID,key = lambda x : MID.get(x)['points'])] = MID[max(MID,key = lambda x : MID.get(x)['points'])]\n",
    "        del MID[max(MID,key = lambda x : MID.get(x)['points'])]\n",
    "    for i in range(2):\n",
    "        squad[max(FWD,key = lambda x : FWD.get(x)['points'])] = FWD[max(FWD,key = lambda x : FWD.get(x)['points'])]\n",
    "        del FWD[max(FWD,key = lambda x : FWD.get(x)['points'])]\n",
    "    return squad"
   ]
  },
  {
   "cell_type": "code",
   "execution_count": 18,
   "id": "3d5bbcf3",
   "metadata": {},
   "outputs": [],
   "source": [
    "def teamCount(x):\n",
    "    teams = {}\n",
    "    for k in x:\n",
    "        teams.setdefault(x[k][\"team\"],0)\n",
    "        teams[x[k][\"team\"]]+=1\n",
    "    return teams\n",
    "\n",
    "def costCount(x):\n",
    "    cost = 0\n",
    "    for i in x:\n",
    "        cost += x[i][\"cost\"] \n",
    "    return cost\n",
    "\n",
    "def removeTeam(teamList,teamNum):\n",
    "    temp = {}\n",
    "    for i in teamList:\n",
    "        if teamList[i][\"team\"] == teamNum:\n",
    "            temp[i] = teamList[i]\n",
    "    position = temp[min(temp, key = lambda x : temp.get(x)['points'])]['type']\n",
    "    del teamList[min(temp,key=lambda x:temp.get(x)[\"points\"])]\n",
    "    if position == 'GK':\n",
    "        teamList[max(GK,key = lambda x : GK.get(x)['points'])] = GK[max(GK,key = lambda x : GK.get(x)['points'])]\n",
    "        del GK[max(GK,key = lambda x : GK.get(x)['points'])]\n",
    "    if position == 'DEF':\n",
    "        teamList[max(DEF,key = lambda x : DEF.get(x)['points'])] = DEF[max(DEF,key = lambda x : DEF.get(x)['points'])]\n",
    "        del DEF[max(DEF,key = lambda x : DEF.get(x)['points'])]\n",
    "    if position == 'MID':\n",
    "        teamList[max(MID,key = lambda x : MID.get(x)['points'])] = MID[max(MID,key = lambda x : MID.get(x)['points'])]\n",
    "        del MID[max(MID,key = lambda x : MID.get(x)['points'])]\n",
    "    if position == 'FWD':\n",
    "        teamList[max(FWD,key = lambda x : FWD.get(x)['points'])] = FWD[max(FWD,key = lambda x : FWD.get(x)['points'])]\n",
    "        del FWD[max(FWD,key = lambda x : FWD.get(x)['points'])]\n",
    "    return teamList\n",
    "def removeLowest(teamList):\n",
    "    position = teamList[min(teamList,key=lambda x : teamList.get(x)['points'])]['type']\n",
    "    del teamList[min(teamList,key=lambda x : teamList.get(x)['points'])]\n",
    "    if position == 'GK':\n",
    "        teamList[max(GK,key = lambda x : GK.get(x)['points'])] = GK[max(GK,key = lambda x : GK.get(x)['points'])]\n",
    "        del GK[max(GK,key = lambda x : GK.get(x)['points'])]\n",
    "    if position == 'DEF':\n",
    "        teamList[max(DEF,key = lambda x : DEF.get(x)['points'])] = DEF[max(DEF,key = lambda x : DEF.get(x)['points'])]\n",
    "        del DEF[max(DEF,key = lambda x : DEF.get(x)['points'])]\n",
    "    if position == 'MID':\n",
    "        teamList[max(MID,key = lambda x : MID.get(x)['points'])] = MID[max(MID,key = lambda x : MID.get(x)['points'])]\n",
    "        del MID[max(MID,key = lambda x : MID.get(x)['points'])]\n",
    "    if position == 'FWD':\n",
    "        teamList[max(FWD,key = lambda x : FWD.get(x)['points'])] = FWD[max(FWD,key = lambda x : FWD.get(x)['points'])]\n",
    "        del FWD[max(FWD,key = lambda x : FWD.get(x)['points'])]\n",
    "def pointsCount(teamList):\n",
    "    temp = teamList\n",
    "    count = 0\n",
    "    for i in range(11) :\n",
    "        count+= temp[max(temp, key = lambda x: temp.get(x)['points'])]['points']\n",
    "        del temp[max(temp, key = lambda x: temp.get(x)['points'])]\n",
    "    return count"
   ]
  },
  {
   "cell_type": "code",
   "execution_count": 8,
   "id": "325d1807",
   "metadata": {},
   "outputs": [
    {
     "data": {
      "text/plain": [
       "{'Ramses Becker': {'points': 176, 'cost': 61, 'type': 'GK', 'team': 11},\n",
       " 'Lloris': {'points': 158, 'cost': 55, 'type': 'GK', 'team': 17},\n",
       " 'Alexander-Arnold': {'points': 208, 'cost': 84, 'type': 'DEF', 'team': 11},\n",
       " 'Cancelo': {'points': 201, 'cost': 72, 'type': 'DEF', 'team': 12},\n",
       " 'Robertson': {'points': 186, 'cost': 73, 'type': 'DEF', 'team': 11},\n",
       " 'van Dijk': {'points': 183, 'cost': 68, 'type': 'DEF', 'team': 11},\n",
       " 'Matip': {'points': 170, 'cost': 53, 'type': 'DEF', 'team': 11},\n",
       " 'Salah': {'points': 265, 'cost': 131, 'type': 'MID', 'team': 11},\n",
       " 'Son': {'points': 258, 'cost': 112, 'type': 'MID', 'team': 17},\n",
       " 'Bowen': {'points': 206, 'cost': 69, 'type': 'MID', 'team': 19},\n",
       " 'De Bruyne': {'points': 196, 'cost': 121, 'type': 'MID', 'team': 12},\n",
       " 'Mané': {'points': 183, 'cost': 118, 'type': 'MID', 'team': 11},\n",
       " 'Kane': {'points': 192, 'cost': 125, 'type': 'FWD', 'team': 17},\n",
       " 'dos Santos Aveiro': {'points': 159, 'cost': 122, 'type': 'FWD', 'team': 13}}"
      ]
     },
     "execution_count": 8,
     "metadata": {},
     "output_type": "execute_result"
    }
   ],
   "source": [
    "idealTeam = generateSquad()\n",
    "idealTeam"
   ]
  },
  {
   "cell_type": "code",
   "execution_count": 10,
   "id": "93d47505",
   "metadata": {},
   "outputs": [
    {
     "name": "stdout",
     "output_type": "stream",
     "text": [
      "{11: 7, 17: 3, 12: 2, 19: 1, 13: 1}\n",
      "{11: 6, 17: 3, 12: 3, 19: 1, 13: 1}\n",
      "{11: 6, 17: 3, 12: 3, 19: 1, 13: 1}\n",
      "{17: 3, 11: 5, 12: 4, 19: 1, 13: 1}\n",
      "{17: 3, 11: 5, 12: 4, 19: 1, 13: 1}\n",
      "{17: 3, 11: 4, 12: 4, 19: 1, 13: 1, 6: 1}\n",
      "{17: 3, 11: 4, 12: 4, 19: 1, 13: 1, 6: 1}\n",
      "{17: 3, 11: 3, 12: 4, 19: 1, 13: 1, 6: 1, 9: 1}\n",
      "{17: 3, 11: 3, 12: 4, 19: 1, 13: 1, 6: 1, 9: 1}\n",
      "{17: 3, 11: 3, 12: 3, 19: 1, 13: 1, 6: 1, 9: 1, 20: 1}\n"
     ]
    }
   ],
   "source": [
    "while True:\n",
    "    counter = teamCount(idealTeam)\n",
    "    if all(v <= 3 for v in counter.values()) and costCount(idealTeam)>1000:\n",
    "        break\n",
    "    if any(v>3 for v in counter.values()):\n",
    "        print(teamCount(idealTeam))\n",
    "        tNumber = max(counter, key=counter.get)\n",
    "        removeTeam(idealTeam,tNumber)\n",
    "        print(teamCount(idealTeam))\n",
    "    elif costCount(idealTeam)>1000:\n",
    "        print(\"Cost Too much: \" + costCount(idealTeam))\n",
    "        removeLowest(idealTeam)\n",
    "        print(\"Now: \" + costCount(idealTeam))"
   ]
  },
  {
   "cell_type": "code",
   "execution_count": 14,
   "id": "d0be67eb",
   "metadata": {},
   "outputs": [
    {
     "data": {
      "text/plain": [
       "{'Lloris': {'points': 158, 'cost': 55, 'type': 'GK', 'team': 17},\n",
       " 'Alexander-Arnold': {'points': 208, 'cost': 84, 'type': 'DEF', 'team': 11},\n",
       " 'Cancelo': {'points': 201, 'cost': 72, 'type': 'DEF', 'team': 12},\n",
       " 'Robertson': {'points': 186, 'cost': 73, 'type': 'DEF', 'team': 11},\n",
       " 'Salah': {'points': 265, 'cost': 131, 'type': 'MID', 'team': 11},\n",
       " 'Son': {'points': 258, 'cost': 112, 'type': 'MID', 'team': 17},\n",
       " 'Bowen': {'points': 206, 'cost': 69, 'type': 'MID', 'team': 19},\n",
       " 'De Bruyne': {'points': 196, 'cost': 121, 'type': 'MID', 'team': 12},\n",
       " 'Kane': {'points': 192, 'cost': 125, 'type': 'FWD', 'team': 17},\n",
       " 'dos Santos Aveiro': {'points': 159, 'cost': 122, 'type': 'FWD', 'team': 13},\n",
       " 'Laporte': {'points': 160, 'cost': 60, 'type': 'DEF', 'team': 12},\n",
       " 'Rüdiger': {'points': 150, 'cost': 61, 'type': 'DEF', 'team': 6},\n",
       " 'Maddison': {'points': 181, 'cost': 69, 'type': 'MID', 'team': 9},\n",
       " 'Malheiro de Sá': {'points': 146, 'cost': 52, 'type': 'GK', 'team': 20}}"
      ]
     },
     "execution_count": 14,
     "metadata": {},
     "output_type": "execute_result"
    }
   ],
   "source": [
    "idealTeam"
   ]
  },
  {
   "cell_type": "code",
   "execution_count": 19,
   "id": "742f09e7",
   "metadata": {},
   "outputs": [
    {
     "data": {
      "text/plain": [
       "2212"
      ]
     },
     "execution_count": 19,
     "metadata": {},
     "output_type": "execute_result"
    }
   ],
   "source": [
    "pointsCount(idealTeam)"
   ]
  }
 ],
 "metadata": {
  "kernelspec": {
   "display_name": "Python 3 (ipykernel)",
   "language": "python",
   "name": "python3"
  },
  "language_info": {
   "codemirror_mode": {
    "name": "ipython",
    "version": 3
   },
   "file_extension": ".py",
   "mimetype": "text/x-python",
   "name": "python",
   "nbconvert_exporter": "python",
   "pygments_lexer": "ipython3",
   "version": "3.9.12"
  }
 },
 "nbformat": 4,
 "nbformat_minor": 5
}
